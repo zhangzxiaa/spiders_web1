{
 "cells": [
  {
   "cell_type": "code",
   "execution_count": 1,
   "id": "d582baca",
   "metadata": {},
   "outputs": [
    {
     "data": {
      "text/plain": [
       "1"
      ]
     },
     "execution_count": 1,
     "metadata": {},
     "output_type": "execute_result"
    }
   ],
   "source": [
    "a=1\n",
    "a"
   ]
  },
  {
   "cell_type": "code",
   "execution_count": 2,
   "id": "f0d41aa0",
   "metadata": {},
   "outputs": [],
   "source": [
    "import os\n",
    "import pandas as pd\n",
    "import numpy as np\n",
    "from matplotlib import pyplot as plt\n",
    "#读取arousal数据\n",
    "arousal = pd.read_csv('arousal.csv',index_col=0)\n",
    "data_arousal=[]\n",
    "for i in range(0,744):\n",
    "    X=np.array(arousal.iloc[i].dropna(axis=0,how='any'))\n",
    "    data_arousal.append(X)\n",
    "\n",
    "#读取valence数据\n",
    "valence = pd.read_csv('valence.csv',index_col=0)\n",
    "data_valence=[]\n",
    "for i in range(0,744):\n",
    "    X=np.array(valence.iloc[i].dropna(axis=0,how='any'))\n",
    "    data_valence.append(X)"
   ]
  },
  {
   "cell_type": "code",
   "execution_count": 27,
   "id": "d7652967",
   "metadata": {},
   "outputs": [],
   "source": [
    "def makeXy(ts, nb_timesteps,stride):\n",
    "    \"\"\"\n",
    "    Input: \n",
    "           ts: 时间序列数据\n",
    "           nb_timesteps: 数据帧的长度\n",
    "           stride：数据帧之间的步长\n",
    "    Output: \n",
    "           x_dataset: 2-D array of regressors\n",
    "           y_dataset: 1-D array of target \n",
    "    \"\"\"\n",
    "    x_dataset = []\n",
    "    y_dataset = []\n",
    "    for i in range(len(ts)):\n",
    "        data=ts[i]\n",
    "        for j in range(0,60-nb_timesteps,stride):\n",
    "            x=data[j:j+nb_timesteps]\n",
    "            y=data[j+nb_timesteps]\n",
    "            x_dataset.append(x)\n",
    "            y_dataset.append(y)\n",
    "    x_dataset,y_dataset=np.array(x_dataset),np.array(y_dataset)\n",
    "    return x_dataset, y_dataset"
   ]
  },
  {
   "cell_type": "code",
   "execution_count": 48,
   "id": "f38b0ece",
   "metadata": {},
   "outputs": [
    {
     "name": "stdout",
     "output_type": "stream",
     "text": [
      "Shape of train arrays: (26750, 10) (26750,)\n",
      "Shape of validation arrays: (3000, 10) (3000,)\n"
     ]
    }
   ],
   "source": [
    "from sklearn.model_selection import train_test_split\n",
    "nb_timesteps=10\n",
    "stride=1\n",
    "train, test = train_test_split(data_valence,test_size=0.2,random_state=1)\n",
    "tra, val = train_test_split(train,test_size=0.1,random_state=1)\n",
    "x_train, y_train = makeXy(tra,nb_timesteps,stride)\n",
    "x_val, y_val = makeXy(val,nb_timesteps,stride)\n",
    "\n",
    "print('Shape of train arrays:', x_train.shape, y_train.shape)\n",
    "print('Shape of validation arrays:', x_val.shape, y_val.shape)"
   ]
  },
  {
   "cell_type": "code",
   "execution_count": 49,
   "id": "0b34ed3b",
   "metadata": {},
   "outputs": [
    {
     "name": "stdout",
     "output_type": "stream",
     "text": [
      "Model: \"model_3\"\n",
      "_________________________________________________________________\n",
      "Layer (type)                 Output Shape              Param #   \n",
      "=================================================================\n",
      "input_4 (InputLayer)         [(None, 10)]              0         \n",
      "_________________________________________________________________\n",
      "dense_12 (Dense)             (None, 32)                352       \n",
      "_________________________________________________________________\n",
      "dense_13 (Dense)             (None, 16)                528       \n",
      "_________________________________________________________________\n",
      "dense_14 (Dense)             (None, 16)                272       \n",
      "_________________________________________________________________\n",
      "dropout_3 (Dropout)          (None, 16)                0         \n",
      "_________________________________________________________________\n",
      "dense_15 (Dense)             (None, 1)                 17        \n",
      "=================================================================\n",
      "Total params: 1,169\n",
      "Trainable params: 1,169\n",
      "Non-trainable params: 0\n",
      "_________________________________________________________________\n"
     ]
    }
   ],
   "source": [
    "'''\n",
    "使用MLP进行时间序列预测\n",
    "'''\n",
    "from keras.layers import Dense, Input, Dropout\n",
    "from keras.models import Model\n",
    "from keras.models import load_model\n",
    "from keras.callbacks import ModelCheckpoint\n",
    "#input layer  has shape (None, 7) and of type float32. None indicates the number of instances\n",
    "input_layer = Input(shape=(10,), dtype='float32')\n",
    "dense1 = Dense(32, activation='tanh')(input_layer)\n",
    "dense2 = Dense(16, activation='tanh')(dense1)\n",
    "dense3 = Dense(16, activation='tanh')(dense2)\n",
    "dropout_layer = Dropout(0.2)(dense3)\n",
    "output_layer = Dense(1, activation='linear')(dropout_layer)\n",
    "mlp_model = Model(inputs=input_layer, outputs=output_layer)\n",
    "mlp_model.compile(loss='mean_absolute_error', optimizer='adam')\n",
    "mlp_model.summary()"
   ]
  },
  {
   "cell_type": "code",
   "execution_count": 51,
   "id": "ab8bb111",
   "metadata": {},
   "outputs": [
    {
     "name": "stdout",
     "output_type": "stream",
     "text": [
      "WARNING:tensorflow:`period` argument is deprecated. Please use `save_freq` to specify the frequency in number of batches seen.\n",
      "Epoch 1/20\n",
      "168/168 [==============================] - 0s 3ms/step - loss: 0.0225 - val_loss: 0.0048\n",
      "Epoch 2/20\n",
      "168/168 [==============================] - 0s 2ms/step - loss: 0.0225 - val_loss: 0.0117\n",
      "Epoch 3/20\n",
      "168/168 [==============================] - 0s 3ms/step - loss: 0.0226 - val_loss: 0.0072\n",
      "Epoch 4/20\n",
      "168/168 [==============================] - 0s 3ms/step - loss: 0.0224 - val_loss: 0.0065\n",
      "Epoch 5/20\n",
      "168/168 [==============================] - 0s 3ms/step - loss: 0.0225 - val_loss: 0.0066\n",
      "Epoch 6/20\n",
      "168/168 [==============================] - 0s 3ms/step - loss: 0.0229 - val_loss: 0.0092\n",
      "Epoch 7/20\n",
      "168/168 [==============================] - 0s 2ms/step - loss: 0.0226 - val_loss: 0.0049\n",
      "Epoch 8/20\n",
      "168/168 [==============================] - 0s 2ms/step - loss: 0.0225 - val_loss: 0.0049\n",
      "Epoch 9/20\n",
      "168/168 [==============================] - 0s 3ms/step - loss: 0.0226 - val_loss: 0.0085\n",
      "Epoch 10/20\n",
      "168/168 [==============================] - 0s 3ms/step - loss: 0.0225 - val_loss: 0.0048\n",
      "Epoch 11/20\n",
      "168/168 [==============================] - 0s 3ms/step - loss: 0.0223 - val_loss: 0.0060\n",
      "Epoch 12/20\n",
      "168/168 [==============================] - 0s 2ms/step - loss: 0.0228 - val_loss: 0.0058\n",
      "Epoch 13/20\n",
      "168/168 [==============================] - 0s 3ms/step - loss: 0.0225 - val_loss: 0.0086\n",
      "Epoch 14/20\n",
      "168/168 [==============================] - 0s 3ms/step - loss: 0.0226 - val_loss: 0.0057\n",
      "Epoch 15/20\n",
      "168/168 [==============================] - 0s 3ms/step - loss: 0.0227 - val_loss: 0.0135\n",
      "Epoch 16/20\n",
      "168/168 [==============================] - 0s 3ms/step - loss: 0.0224 - val_loss: 0.0057\n",
      "Epoch 17/20\n",
      "168/168 [==============================] - 0s 2ms/step - loss: 0.0225 - val_loss: 0.0073\n",
      "Epoch 18/20\n",
      "168/168 [==============================] - 0s 3ms/step - loss: 0.0224 - val_loss: 0.0048\n",
      "Epoch 19/20\n",
      "168/168 [==============================] - 0s 3ms/step - loss: 0.0224 - val_loss: 0.0079\n",
      "Epoch 20/20\n",
      "168/168 [==============================] - 0s 3ms/step - loss: 0.0224 - val_loss: 0.0048\n"
     ]
    },
    {
     "data": {
      "text/plain": [
       "<keras.callbacks.History at 0x7f38842af940>"
      ]
     },
     "execution_count": 51,
     "metadata": {},
     "output_type": "execute_result"
    }
   ],
   "source": [
    "save_weights_at = os.path.join('mlp_models', 'valence_MLP_weights.{epoch:02d}-{val_loss:.4f}.hdf5')\n",
    "save_best = ModelCheckpoint(save_weights_at, monitor='val_loss', verbose=0,\n",
    "                            save_best_only=True, save_weights_only=False, mode='min',\n",
    "                            period=1)\n",
    "mlp_model.fit(x=x_train, y=y_train, batch_size=160, epochs=20,verbose=1, callbacks=[save_best], validation_data=(x_val, y_val),shuffle=True)"
   ]
  },
  {
   "cell_type": "code",
   "execution_count": 52,
   "id": "cff3a55d",
   "metadata": {},
   "outputs": [
    {
     "name": "stdout",
     "output_type": "stream",
     "text": [
      "MAE for the test set: 0.0054\n"
     ]
    }
   ],
   "source": [
    "from sklearn.metrics import mean_absolute_error\n",
    "x_test, y_test = makeXy(test,nb_timesteps,stride)\n",
    "best_model = load_model(os.path.join('mlp_models', 'valence_MLP_weights.18-0.0048.hdf5'))\n",
    "preds = best_model.predict(x_test)\n",
    "preds = np.squeeze(preds)\n",
    "mae = mean_absolute_error(y_test, preds)\n",
    "print('MAE for the test set:', round(mae, 4))"
   ]
  },
  {
   "cell_type": "code",
   "execution_count": 53,
   "id": "05303890",
   "metadata": {},
   "outputs": [
    {
     "data": {
      "text/plain": [
       "Text(0.5, 0, 'Index')"
      ]
     },
     "execution_count": 53,
     "metadata": {},
     "output_type": "execute_result"
    },
    {
     "data": {
      "image/png": "[encoded data removed]",
      "text/plain": [
       "<Figure size 720x396 with 1 Axes>"
      ]
     },
     "metadata": {
      "needs_background": "light"
     },
     "output_type": "display_data"
    }
   ],
   "source": [
    "plt.figure(figsize=(10, 5.5))\n",
    "plt.plot(test[0][10:], linestyle='-', marker='*', color='r')\n",
    "plt.plot(preds[0:50], linestyle='-', marker='.', color='b')\n",
    "plt.legend(['Actual','Predicted'], loc=2)\n",
    "plt.title('Actual vs Predicted ')\n",
    "plt.ylabel('valence')\n",
    "plt.xlabel('Index')"
   ]
  },
  {
   "cell_type": "code",
   "execution_count": 55,
   "id": "48b7eb1e",
   "metadata": {},
   "outputs": [
    {
     "name": "stdout",
     "output_type": "stream",
     "text": [
      "Shape of arrays after reshaping: (26750, 10, 1) (3000, 10, 1)\n"
     ]
    }
   ],
   "source": [
    "'''\n",
    "使用MLP进行时间序列预测\n",
    "'''\n",
    "#X_train and X_val are reshaped to 3D arrays\n",
    "x_train, x_val = x_train.reshape((x_train.shape[0], x_train.shape[1], 1)), x_val.reshape((x_val.shape[0], x_val.shape[1], 1))\n",
    "print('Shape of arrays after reshaping:', x_train.shape, x_val.shape)"
   ]
  },
  {
   "cell_type": "code",
   "execution_count": 61,
   "id": "edd510f6",
   "metadata": {},
   "outputs": [
    {
     "name": "stdout",
     "output_type": "stream",
     "text": [
      "Model: \"model_5\"\n",
      "_________________________________________________________________\n",
      "Layer (type)                 Output Shape              Param #   \n",
      "=================================================================\n",
      "input_6 (InputLayer)         [(None, 10, 1)]           0         \n",
      "_________________________________________________________________\n",
      "lstm_2 (LSTM)                (None, 10, 64)            16896     \n",
      "_________________________________________________________________\n",
      "lstm_3 (LSTM)                (None, 32)                12416     \n",
      "_________________________________________________________________\n",
      "dropout_5 (Dropout)          (None, 32)                0         \n",
      "_________________________________________________________________\n",
      "dense_17 (Dense)             (None, 1)                 33        \n",
      "=================================================================\n",
      "Total params: 29,345\n",
      "Trainable params: 29,345\n",
      "Non-trainable params: 0\n",
      "_________________________________________________________________\n"
     ]
    }
   ],
   "source": [
    "from keras.layers import Dense, Input, Dropout\n",
    "from keras.layers.recurrent import LSTM\n",
    "from keras.models import Model\n",
    "from keras.models import load_model\n",
    "from keras.callbacks import ModelCheckpoint\n",
    "\n",
    "#Define input layer which has shape (None, 7) and of type float32. None indicates the number of instances\n",
    "input_layer = Input(shape=(10,1), dtype='float32')\n",
    "lstm_layer1 = LSTM(64, input_shape=(10,1), return_sequences=True)(input_layer)\n",
    "lstm_layer2 = LSTM(32, input_shape=(10,64), return_sequences=False)(lstm_layer1)\n",
    "dropout_layer = Dropout(0.2)(lstm_layer2)\n",
    "#Finally the output layer gives prediction for the next day's air pressure.\n",
    "output_layer = Dense(1, activation='linear')(dropout_layer)\n",
    "lstm_model = Model(inputs=input_layer, outputs=output_layer)\n",
    "lstm_model.compile(loss='mean_absolute_error', optimizer='adam')#SGD(lr=0.001, decay=1e-5))\n",
    "lstm_model.summary()"
   ]
  },
  {
   "cell_type": "code",
   "execution_count": 62,
   "id": "7d51c7d3",
   "metadata": {},
   "outputs": [
    {
     "name": "stdout",
     "output_type": "stream",
     "text": [
      "WARNING:tensorflow:`period` argument is deprecated. Please use `save_freq` to specify the frequency in number of batches seen.\n",
      "Epoch 1/20\n",
      "168/168 [==============================] - 21s 51ms/step - loss: 0.0638 - val_loss: 0.0150\n",
      "Epoch 2/20\n",
      "168/168 [==============================] - 7s 42ms/step - loss: 0.0226 - val_loss: 0.0185\n",
      "Epoch 3/20\n",
      "168/168 [==============================] - 7s 42ms/step - loss: 0.0211 - val_loss: 0.0136\n",
      "Epoch 4/20\n",
      "168/168 [==============================] - 7s 42ms/step - loss: 0.0198 - val_loss: 0.0111\n",
      "Epoch 5/20\n",
      "168/168 [==============================] - 7s 42ms/step - loss: 0.0194 - val_loss: 0.0091\n",
      "Epoch 6/20\n",
      "168/168 [==============================] - 7s 42ms/step - loss: 0.0191 - val_loss: 0.0082\n",
      "Epoch 7/20\n",
      "168/168 [==============================] - 7s 42ms/step - loss: 0.0186 - val_loss: 0.0091\n",
      "Epoch 8/20\n",
      "168/168 [==============================] - 7s 42ms/step - loss: 0.0186 - val_loss: 0.0074\n",
      "Epoch 9/20\n",
      "168/168 [==============================] - 7s 43ms/step - loss: 0.0181 - val_loss: 0.0080\n",
      "Epoch 10/20\n",
      "168/168 [==============================] - 7s 42ms/step - loss: 0.0179 - val_loss: 0.0067\n",
      "Epoch 11/20\n",
      "168/168 [==============================] - 7s 42ms/step - loss: 0.0178 - val_loss: 0.0064\n",
      "Epoch 12/20\n",
      "168/168 [==============================] - 7s 42ms/step - loss: 0.0177 - val_loss: 0.0071\n",
      "Epoch 13/20\n",
      "168/168 [==============================] - 7s 42ms/step - loss: 0.0177 - val_loss: 0.0066\n",
      "Epoch 14/20\n",
      "168/168 [==============================] - 7s 43ms/step - loss: 0.0172 - val_loss: 0.0062\n",
      "Epoch 15/20\n",
      "168/168 [==============================] - 7s 42ms/step - loss: 0.0177 - val_loss: 0.0058\n",
      "Epoch 16/20\n",
      "168/168 [==============================] - 7s 42ms/step - loss: 0.0173 - val_loss: 0.0099\n",
      "Epoch 17/20\n",
      "168/168 [==============================] - 7s 42ms/step - loss: 0.0171 - val_loss: 0.0072\n",
      "Epoch 18/20\n",
      "168/168 [==============================] - 7s 42ms/step - loss: 0.0170 - val_loss: 0.0058\n",
      "Epoch 19/20\n",
      "168/168 [==============================] - 7s 42ms/step - loss: 0.0175 - val_loss: 0.0055\n",
      "Epoch 20/20\n",
      "168/168 [==============================] - 7s 42ms/step - loss: 0.0170 - val_loss: 0.0062\n"
     ]
    },
    {
     "data": {
      "text/plain": [
       "<keras.callbacks.History at 0x7f387c27beb8>"
      ]
     },
     "execution_count": 62,
     "metadata": {},
     "output_type": "execute_result"
    }
   ],
   "source": [
    "save_weights_at = os.path.join('lstm_models', 'valence_LSTM_weights.{epoch:02d}-{val_loss:.4f}.hdf5')\n",
    "save_best = ModelCheckpoint(save_weights_at, monitor='val_loss', verbose=0,\n",
    "                            save_best_only=True, save_weights_only=False, mode='min',\n",
    "                            period=1)\n",
    "lstm_model.fit(x=x_train, y=y_train, batch_size=160, epochs=20,verbose=1, callbacks=[save_best], validation_data=(x_val, y_val),shuffle=True)"
   ]
  },
  {
   "cell_type": "code",
   "execution_count": 63,
   "id": "2c9b8211",
   "metadata": {},
   "outputs": [
    {
     "name": "stdout",
     "output_type": "stream",
     "text": [
      "MAE for the test set: 0.0063\n"
     ]
    }
   ],
   "source": [
    "from sklearn.metrics import mean_absolute_error\n",
    "x_test, y_test = makeXy(test,nb_timesteps,stride)\n",
    "best_model = load_model(os.path.join('lstm_models', 'valence_LSTM_weights.19-0.0055.hdf5'))\n",
    "preds = best_model.predict(x_test)\n",
    "preds = np.squeeze(preds)\n",
    "mae = mean_absolute_error(y_test, preds)\n",
    "print('MAE for the test set:', round(mae, 4))"
   ]
  },
  {
   "cell_type": "code",
   "execution_count": 64,
   "id": "2b3b02da",
   "metadata": {},
   "outputs": [
    {
     "data": {
      "text/plain": [
       "Text(0.5, 0, 'Index')"
      ]
     },
     "execution_count": 64,
     "metadata": {},
     "output_type": "execute_result"
    },
    {
     "data": {
      "image/png": "[encoded data removed]",
      "text/plain": [
       "<Figure size 720x396 with 1 Axes>"
      ]
     },
     "metadata": {
      "needs_background": "light"
     },
     "output_type": "display_data"
    }
   ],
   "source": [
    "plt.figure(figsize=(10, 5.5))\n",
    "plt.plot(test[0][10:], linestyle='-', marker='*', color='r')\n",
    "plt.plot(preds[0:50], linestyle='-', marker='.', color='b')\n",
    "plt.legend(['Actual','Predicted'], loc=2)\n",
    "plt.title('Actual vs Predicted ')\n",
    "plt.ylabel('valence')\n",
    "plt.xlabel('Index')"
   ]
  },
  {
   "cell_type": "code",
   "execution_count": null,
   "id": "292c53ff",
   "metadata": {},
   "outputs": [],
   "source": []
  }
 ],
 "metadata": {
  "kernelspec": {
   "display_name": "Python 3",
   "language": "python",
   "name": "python3"
  },
  "language_info": {
   "codemirror_mode": {
    "name": "ipython",
    "version": 3
   },
   "file_extension": ".py",
   "mimetype": "text/x-python",
   "name": "python",
   "nbconvert_exporter": "python",
   "pygments_lexer": "ipython3",
   "version": "3.6.9"
  }
 },
 "nbformat": 4,
 "nbformat_minor": 5
}
