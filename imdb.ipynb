{
 "cells": [
  {
   "cell_type": "code",
   "execution_count": 23,
   "metadata": {},
   "outputs": [],
   "source": [
    "'''\n",
    "方法1：三层全连接\n",
    "'''\n",
    "from keras.datasets import imdb\n",
    "import numpy as np\n",
    "from keras import models\n",
    "from keras.layers import Dense\n",
    "import matplotlib.pyplot as plt\n",
    "from sklearn.metrics import precision_recall_fscore_support\n",
    "#from keras.layers.embeddings import Embedding \n",
    "#数据库加载\n",
    "(train_data, train_labels), (test_data, test_labels) = imdb.load_data(num_words=10000)\n",
    "#可以将评论解码为英文单词\n",
    "word_index = imdb.get_word_index()\n",
    "reverse_word_index = dict([(value, key) for (key, value) in word_index.items()])\n",
    "decoded_review = ' '.join([reverse_word_index.get(i - 3, '?') for i in train_data[0]])"
   ]
  },
  {
   "cell_type": "code",
   "execution_count": 24,
   "metadata": {},
   "outputs": [],
   "source": [
    "#将列表进行one-hot编码\n",
    "\n",
    "def vectorize_sequences(sequences, dimension=10000):\n",
    "   \n",
    "    results = np.zeros((len(sequences), dimension))\n",
    "    for i, sequence in enumerate(sequences):\n",
    "        results[i, sequence] = 1.  # 索引results矩阵中的位置，赋值为1，全部都是从第0行0列开始的\n",
    "    return results\n",
    "\n",
    "# Our vectorized training data\n",
    "x_train = vectorize_sequences(train_data)\n",
    "# Our vectorized test data\n",
    "x_test = vectorize_sequences(test_data)\n",
    "y_train = np.asarray(train_labels).astype('float32')\n",
    "y_test = np.asarray(test_labels).astype('float32')\n",
    "#训练集中拿出10000个作为验证集\n",
    "x_val = x_train[:10000]\n",
    "partial_x_train = x_train[10000:]\n",
    "\n",
    "y_val = y_train[:10000]\n",
    "partial_y_train = y_train[10000:]"
   ]
  },
  {
   "cell_type": "code",
   "execution_count": 75,
   "metadata": {},
   "outputs": [
    {
     "name": "stdout",
     "output_type": "stream",
     "text": [
      "Model: \"sequential_18\"\n",
      "_________________________________________________________________\n",
      "Layer (type)                 Output Shape              Param #   \n",
      "=================================================================\n",
      "dense_33 (Dense)             (None, 16)                160016    \n",
      "_________________________________________________________________\n",
      "dense_34 (Dense)             (None, 16)                272       \n",
      "_________________________________________________________________\n",
      "dense_35 (Dense)             (None, 1)                 17        \n",
      "=================================================================\n",
      "Total params: 160,305\n",
      "Trainable params: 160,305\n",
      "Non-trainable params: 0\n",
      "_________________________________________________________________\n"
     ]
    }
   ],
   "source": [
    "model = models.Sequential()\n",
    "model.add(Dense(16, activation='relu', input_shape=(10000,)))\n",
    "model.add(Dense(16, activation='relu'))\n",
    "model.add(Dense(1, activation='sigmoid'))\n",
    "model.compile(optimizer='rmsprop',\n",
    "              loss='binary_crossentropy',\n",
    "              metrics=['accuracy'])\n",
    "model.summary()"
   ]
  },
  {
   "cell_type": "code",
   "execution_count": 37,
   "metadata": {},
   "outputs": [
    {
     "name": "stdout",
     "output_type": "stream",
     "text": [
      "Epoch 1/10\n",
      "150/150 [==============================] - 6s 41ms/step - loss: 0.3926 - accuracy: 0.8468 - val_loss: 0.2827 - val_accuracy: 0.8888\n",
      "Epoch 2/10\n",
      "150/150 [==============================] - 7s 46ms/step - loss: 0.2073 - accuracy: 0.9222 - val_loss: 0.2783 - val_accuracy: 0.8888\n",
      "Epoch 3/10\n",
      "150/150 [==============================] - 8s 54ms/step - loss: 0.1517 - accuracy: 0.9445 - val_loss: 0.3089 - val_accuracy: 0.8830\n",
      "Epoch 4/10\n",
      "150/150 [==============================] - 4s 30ms/step - loss: 0.1166 - accuracy: 0.9579 - val_loss: 0.3474 - val_accuracy: 0.8800\n",
      "Epoch 5/10\n",
      "150/150 [==============================] - 7s 45ms/step - loss: 0.0895 - accuracy: 0.9684 - val_loss: 0.3888 - val_accuracy: 0.8789\n",
      "Epoch 6/10\n",
      "150/150 [==============================] - 6s 40ms/step - loss: 0.0700 - accuracy: 0.9757 - val_loss: 0.4420 - val_accuracy: 0.8762\n",
      "Epoch 7/10\n",
      "150/150 [==============================] - 6s 40ms/step - loss: 0.0529 - accuracy: 0.9829 - val_loss: 0.4952 - val_accuracy: 0.8719\n",
      "Epoch 8/10\n",
      "150/150 [==============================] - 7s 44ms/step - loss: 0.0388 - accuracy: 0.9871 - val_loss: 0.5698 - val_accuracy: 0.8690\n",
      "Epoch 9/10\n",
      "150/150 [==============================] - 5s 31ms/step - loss: 0.0266 - accuracy: 0.9917 - val_loss: 0.6528 - val_accuracy: 0.8621\n",
      "Epoch 10/10\n",
      "150/150 [==============================] - 5s 33ms/step - loss: 0.0186 - accuracy: 0.9943 - val_loss: 0.7354 - val_accuracy: 0.8635\n",
      "782/782 [==============================] - 8s 10ms/step - loss: 0.8256 - accuracy: 0.8462\n"
     ]
    }
   ],
   "source": [
    "model = models.Sequential()\n",
    "model.add(Dense(16, activation='relu', input_shape=(10000,)))\n",
    "model.add(Dense(16, activation='relu'))\n",
    "model.add(Dense(1, activation='sigmoid'))\n",
    "model.compile(optimizer='rmsprop',\n",
    "              loss='binary_crossentropy',\n",
    "              metrics=['accuracy'])\n",
    "model.summary()\n",
    "history = model.fit(partial_x_train,\n",
    "                    partial_y_train,\n",
    "                    epochs=10,\n",
    "                    batch_size=100,\n",
    "                    validation_data=(x_val, y_val))\n",
    "results = model.evaluate(x_test, y_test)"
   ]
  },
  {
   "cell_type": "code",
   "execution_count": 38,
   "metadata": {},
   "outputs": [
    {
     "data": {
      "image/png": "[encoded data removed]",
      "text/plain": [
       "<Figure size 432x288 with 1 Axes>"
      ]
     },
     "metadata": {
      "needs_background": "light"
     },
     "output_type": "display_data"
    },
    {
     "data": {
      "image/png": "[encoded data removed]",
      "text/plain": [
       "<Figure size 432x288 with 1 Axes>"
      ]
     },
     "metadata": {
      "needs_background": "light"
     },
     "output_type": "display_data"
    }
   ],
   "source": [
    "history_dict = history.history\n",
    "history_dict.keys()\n",
    "\n",
    "acc = history.history['accuracy']\n",
    "val_acc = history.history['val_accuracy']\n",
    "loss = history.history['loss']\n",
    "val_loss = history.history['val_loss']\n",
    "\n",
    "epochs = range(1, len(acc) + 1)\n",
    "\n",
    "# \"bo\" is for \"blue dot\"\n",
    "plt.plot(epochs, loss, 'bo', label='Training loss')  # bo表示蓝色圆点\n",
    "# b is for \"solid blue line\"\n",
    "plt.plot(epochs, val_loss, 'b', label='Validation loss')  # b表示蓝色实线\n",
    "plt.title('Training and validation loss')\n",
    "plt.xlabel('Epochs')\n",
    "plt.ylabel('Loss')\n",
    "plt.legend()  #如果不加这一句就不会显示图例\n",
    "plt.show()\n",
    "plt.clf()   # clear figure\n",
    "acc_values = history_dict['accuracy']\n",
    "val_acc_values = history_dict['val_accuracy']\n",
    "\n",
    "plt.plot(epochs, acc, 'bo', label='Training acc')\n",
    "plt.plot(epochs, val_acc, 'b', label='Validation acc')\n",
    "plt.title('Training and validation accuracy')\n",
    "plt.xlabel('Epochs')\n",
    "plt.ylabel('Loss')\n",
    "plt.legend()\n",
    "plt.show()"
   ]
  },
  {
   "cell_type": "code",
   "execution_count": 48,
   "metadata": {},
   "outputs": [
    {
     "data": {
      "text/plain": [
       "(array([0.83251383, 0.8611482 ]),\n",
       " array([0.86688, 0.8256 ]),\n",
       " array([0.84934943, 0.84299951]),\n",
       " array([12500, 12500]))"
      ]
     },
     "execution_count": 48,
     "metadata": {},
     "output_type": "execute_result"
    }
   ],
   "source": [
    "y_pred=model.predict(x_test)\n",
    "y_pred_binary = []\n",
    "for item in y_pred:\n",
    "    if item <= 0.5:\n",
    "        a = 0\n",
    "    else:\n",
    "        a = 1\n",
    "    y_pred_binary.append(a)\n",
    "precision_recall_fscore_support(y_test, y_pred_binary, average=None)"
   ]
  },
  {
   "cell_type": "code",
   "execution_count": 81,
   "metadata": {},
   "outputs": [
    {
     "name": "stdout",
     "output_type": "stream",
     "text": [
      "Model: \"sequential_20\"\n",
      "_________________________________________________________________\n",
      "Layer (type)                 Output Shape              Param #   \n",
      "=================================================================\n",
      "embedding_14 (Embedding)     (None, 500, 32)           121600    \n",
      "_________________________________________________________________\n",
      "dropout_15 (Dropout)         (None, 500, 32)           0         \n",
      "_________________________________________________________________\n",
      "lstm_16 (LSTM)               (None, 32)                8320      \n",
      "_________________________________________________________________\n",
      "dense_38 (Dense)             (None, 256)               8448      \n",
      "_________________________________________________________________\n",
      "dropout_16 (Dropout)         (None, 256)               0         \n",
      "_________________________________________________________________\n",
      "dense_39 (Dense)             (None, 1)                 257       \n",
      "=================================================================\n",
      "Total params: 138,625\n",
      "Trainable params: 138,625\n",
      "Non-trainable params: 0\n",
      "_________________________________________________________________\n"
     ]
    }
   ],
   "source": [
    "'''\n",
    "方法2 Embedding+LSTM\n",
    "'''\n",
    "from keras.datasets import imdb\n",
    "import numpy as np\n",
    "from keras import models\n",
    "from keras.layers import Dense\n",
    "import matplotlib.pyplot as plt\n",
    "from sklearn.metrics import precision_recall_fscore_support\n",
    "from keras.preprocessing import sequence\n",
    "\n",
    "#数据库加载\n",
    "(train_data, train_labels), (test_data, test_labels) = imdb.load_data(num_words=3800)\n",
    "#这次是通过pad_sequences的方式补齐或截断列表，将其转化为tensor\n",
    "x_train = sequence.pad_sequences(train_data, maxlen=500)\n",
    "x_test  = sequence.pad_sequences(test_data,  maxlen=500)\n",
    "model = models.Sequential()\n",
    "model.add(Embedding(input_dim=3800,output_dim=32,input_length=500))\n",
    "model.add(Dropout(0.2))\n",
    "model.add(LSTM(32))\n",
    "model.add(Dense(units=256,activation='relu' ))\n",
    "model.add(Dropout(0.2))\n",
    "model.add(Dense(units=1,activation='sigmoid' ))\n",
    "model.summary()"
   ]
  },
  {
   "cell_type": "code",
   "execution_count": 82,
   "metadata": {},
   "outputs": [
    {
     "name": "stdout",
     "output_type": "stream",
     "text": [
      "Epoch 1/10\n",
      "200/200 - 153s - loss: 0.4622 - accuracy: 0.7661 - val_loss: 0.3271 - val_accuracy: 0.8636\n",
      "Epoch 2/10\n",
      "200/200 - 153s - loss: 0.2705 - accuracy: 0.8940 - val_loss: 0.2895 - val_accuracy: 0.8806\n",
      "Epoch 3/10\n",
      "200/200 - 160s - loss: 0.2273 - accuracy: 0.9133 - val_loss: 0.2959 - val_accuracy: 0.8786\n",
      "Epoch 4/10\n",
      "200/200 - 144s - loss: 0.2115 - accuracy: 0.9192 - val_loss: 0.3059 - val_accuracy: 0.8722\n",
      "Epoch 5/10\n",
      "200/200 - 149s - loss: 0.1780 - accuracy: 0.9338 - val_loss: 0.3429 - val_accuracy: 0.8754\n",
      "Epoch 6/10\n",
      "200/200 - 148s - loss: 0.1632 - accuracy: 0.9400 - val_loss: 0.3525 - val_accuracy: 0.8706\n",
      "Epoch 7/10\n",
      "200/200 - 154s - loss: 0.1428 - accuracy: 0.9470 - val_loss: 0.3951 - val_accuracy: 0.8632\n",
      "Epoch 8/10\n",
      "200/200 - 151s - loss: 0.1370 - accuracy: 0.9473 - val_loss: 0.4096 - val_accuracy: 0.8526\n",
      "Epoch 9/10\n",
      "200/200 - 146s - loss: 0.1157 - accuracy: 0.9589 - val_loss: 0.4806 - val_accuracy: 0.8656\n",
      "Epoch 10/10\n",
      "200/200 - 151s - loss: 0.1020 - accuracy: 0.9628 - val_loss: 0.4712 - val_accuracy: 0.8600\n"
     ]
    }
   ],
   "source": [
    "model.compile(loss='binary_crossentropy', \n",
    "              optimizer='adam', \n",
    "              metrics=['accuracy'])\n",
    "\n",
    "train_history =model.fit(x_train, train_labels,batch_size=100, \n",
    "                         epochs=10,verbose=2,\n",
    "                         validation_split=0.2)"
   ]
  },
  {
   "cell_type": "code",
   "execution_count": 83,
   "metadata": {},
   "outputs": [
    {
     "data": {
      "image/png": "[encoded data removed]",
      "text/plain": [
       "<Figure size 432x288 with 1 Axes>"
      ]
     },
     "metadata": {
      "needs_background": "light"
     },
     "output_type": "display_data"
    }
   ],
   "source": [
    "def show_train_history(train_history,train,validation):\n",
    "    plt.plot(train_history.history[train])\n",
    "    plt.plot(train_history.history[validation])\n",
    "    plt.title('Train History')\n",
    "    plt.ylabel(train)\n",
    "    plt.xlabel('Epoch')\n",
    "    plt.legend(['train', 'validation'], loc='upper left')\n",
    "    plt.show()\n",
    "show_train_history(train_history,'loss','val_loss')"
   ]
  },
  {
   "cell_type": "code",
   "execution_count": 84,
   "metadata": {},
   "outputs": [
    {
     "data": {
      "image/png": "[encoded data removed]",
      "text/plain": [
       "<Figure size 432x288 with 1 Axes>"
      ]
     },
     "metadata": {
      "needs_background": "light"
     },
     "output_type": "display_data"
    }
   ],
   "source": [
    "show_train_history(train_history,'accuracy','val_accuracy')"
   ]
  },
  {
   "cell_type": "code",
   "execution_count": 85,
   "metadata": {},
   "outputs": [
    {
     "name": "stdout",
     "output_type": "stream",
     "text": [
      "782/782 [==============================] - 99s 126ms/step - loss: 0.4595 - accuracy: 0.8611\n"
     ]
    }
   ],
   "source": [
    "#test上的损失和准确率\n",
    "scores = model.evaluate(x_test, test_labels)"
   ]
  },
  {
   "cell_type": "code",
   "execution_count": 86,
   "metadata": {},
   "outputs": [
    {
     "data": {
      "text/plain": [
       "(array([0.86226824, 0.85989953]),\n",
       " array([0.85944, 0.86272]),\n",
       " array([0.8608518 , 0.86130746]),\n",
       " array([12500, 12500]))"
      ]
     },
     "execution_count": 86,
     "metadata": {},
     "output_type": "execute_result"
    }
   ],
   "source": [
    "y_pred=model.predict(x_test)\n",
    "y_pred_binary = []\n",
    "for item in y_pred:\n",
    "    if item <= 0.5:\n",
    "        a = 0\n",
    "    else:\n",
    "        a = 1\n",
    "    y_pred_binary.append(a)\n",
    "precision_recall_fscore_support(test_labels, y_pred_binary, average=None)"
   ]
  },
  {
   "cell_type": "code",
   "execution_count": null,
   "metadata": {},
   "outputs": [],
   "source": []
  }
 ],
 "metadata": {
  "kernelspec": {
   "display_name": "tensorflow",
   "language": "python",
   "name": "env1"
  },
  "language_info": {
   "codemirror_mode": {
    "name": "ipython",
    "version": 3
   },
   "file_extension": ".py",
   "mimetype": "text/x-python",
   "name": "python",
   "nbconvert_exporter": "python",
   "pygments_lexer": "ipython3",
   "version": "3.6.13"
  }
 },
 "nbformat": 4,
 "nbformat_minor": 4
}
